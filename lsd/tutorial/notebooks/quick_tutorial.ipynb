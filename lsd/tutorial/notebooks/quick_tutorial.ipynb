{
  "nbformat": 4,
  "nbformat_minor": 0,
  "metadata": {
    "colab": {
      "name": "quick_tutorial.ipynb",
      "provenance": [],
      "collapsed_sections": []
    },
    "kernelspec": {
      "name": "python3",
      "display_name": "Python 3"
    },
    "language_info": {
      "name": "python"
    }
  },
  "cells": [
    {
      "cell_type": "code",
      "execution_count": null,
      "metadata": {
        "collapsed": true,
        "id": "0C0rVejKz3uR"
      },
      "outputs": [],
      "source": [
        "!pip install matplotlib scikit-image gunpowder\n",
        "!pip install git+https://github.com/funkelab/lsd.git"
      ]
    },
    {
      "cell_type": "code",
      "source": [
        "import h5py\n",
        "import io\n",
        "import matplotlib.pyplot as plt\n",
        "import numpy as np\n",
        "import requests\n",
        "import skimage\n",
        "\n",
        "from lsd.train import local_shape_descriptor\n",
        "from skimage.filters import sobel\n",
        "from skimage.measure import label\n",
        "from skimage.segmentation import watershed\n",
        "\n",
        "%matplotlib inline"
      ],
      "metadata": {
        "id": "NNSHGgZx0eTZ"
      },
      "execution_count": null,
      "outputs": []
    },
    {
      "cell_type": "code",
      "source": [
        "# get coins dataset\n",
        "data = skimage.data.coins()\n",
        "\n",
        "plt.imshow(data, cmap='gray')"
      ],
      "metadata": {
        "id": "CI8GXB620pBc"
      },
      "execution_count": null,
      "outputs": []
    },
    {
      "cell_type": "code",
      "source": [
        "# create edges\n",
        "edges = sobel(data)\n",
        "\n",
        "# generate markers for watershed\n",
        "markers = np.zeros_like(data)\n",
        "foreground, background = 1, 2\n",
        "markers[data < 30.0] = background\n",
        "markers[data > 150.0] = foreground\n",
        "\n",
        "# get unique labels\n",
        "ws = watershed(edges, markers)\n",
        "labels = label(ws == foreground).astype(np.uint64)\n",
        "\n",
        "plt.imshow(data, cmap='gray')\n",
        "plt.imshow(labels, cmap='prism', alpha=0.5)"
      ],
      "metadata": {
        "id": "nadgtQf-0x6e"
      },
      "execution_count": null,
      "outputs": []
    },
    {
      "cell_type": "code",
      "source": [
        "# calculate lsds\n",
        "lsds = local_shape_descriptor.get_local_shape_descriptors(\n",
        "              segmentation=labels,\n",
        "              sigma=(15,)*2,\n",
        "              voxel_size=(1,)*2)\n",
        "\n",
        "print(lsds.shape)"
      ],
      "metadata": {
        "id": "c08nzqpAz9Wy"
      },
      "execution_count": null,
      "outputs": []
    },
    {
      "cell_type": "code",
      "source": [
        "def view_lsds(lsds):\n",
        "\n",
        "  fig, axes = plt.subplots(\n",
        "            2,\n",
        "            3,\n",
        "            figsize=(25, 10),\n",
        "            sharex=True,\n",
        "            sharey=True,\n",
        "            squeeze=False)\n",
        "  \n",
        "  axes[0][0].imshow(np.squeeze(lsds[0]), cmap='jet')\n",
        "  axes[0][0].title.set_text('Mean offset Y')\n",
        "\n",
        "  axes[0][1].imshow(np.squeeze(lsds[1]), cmap='jet')\n",
        "  axes[0][1].title.set_text('Mean offset X')\n",
        "\n",
        "  axes[0][2].imshow(np.squeeze(lsds[2]), cmap='jet')\n",
        "  axes[0][2].title.set_text('Covariance Y-Y')\n",
        "\n",
        "  axes[1][0].imshow(np.squeeze(lsds[3]), cmap='jet')\n",
        "  axes[1][0].title.set_text('Covariance X-X')\n",
        "\n",
        "  axes[1][1].imshow(np.squeeze(lsds[4]), cmap='jet')\n",
        "  axes[1][1].title.set_text('Covariance Y-X')\n",
        "\n",
        "  axes[1][2].imshow(np.squeeze(lsds[5]), cmap='jet')\n",
        "  axes[1][2].title.set_text('Size')"
      ],
      "metadata": {
        "id": "Vk_Nxh1V792S"
      },
      "execution_count": null,
      "outputs": []
    },
    {
      "cell_type": "code",
      "source": [
        "view_lsds(lsds)"
      ],
      "metadata": {
        "id": "-yKk7UOV8SJ9"
      },
      "execution_count": null,
      "outputs": []
    },
    {
      "cell_type": "code",
      "source": [
        "# example data from cremi challenge - might take a couple seconds to download\n",
        "url = 'https://cremi.org/static/data/sample_A_20160501.hdf'\n",
        "\n",
        "# convert from binary\n",
        "container = h5py.File(io.BytesIO(requests.get(url).content), 'r')"
      ],
      "metadata": {
        "id": "oniIXGRQ0OAn"
      },
      "execution_count": null,
      "outputs": []
    },
    {
      "cell_type": "code",
      "source": [
        "# get corner patch\n",
        "raw = np.squeeze(container['volumes/raw'][0:1,0:250,0:250])\n",
        "labels = np.squeeze(container['volumes/labels/neuron_ids'][0:1,0:250,0:250])\n",
        "\n",
        "plt.imshow(raw, cmap='gray')\n",
        "plt.imshow(labels, cmap='prism', alpha=0.5)"
      ],
      "metadata": {
        "id": "CLbaH5iF-VPm"
      },
      "execution_count": null,
      "outputs": []
    },
    {
      "cell_type": "code",
      "source": [
        "# calc lsds\n",
        "lsds = local_shape_descriptor.get_local_shape_descriptors(\n",
        "              segmentation=labels,\n",
        "              sigma=(100,)*2,\n",
        "              voxel_size=[4,4])"
      ],
      "metadata": {
        "id": "yBoLTfEE9jNN"
      },
      "execution_count": null,
      "outputs": []
    },
    {
      "cell_type": "code",
      "source": [
        "view_lsds(lsds)"
      ],
      "metadata": {
        "id": "mLwjpZHt7fKN"
      },
      "execution_count": null,
      "outputs": []
    }
  ]
}